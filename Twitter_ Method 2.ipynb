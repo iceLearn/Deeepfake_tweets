{
 "cells": [
  {
   "cell_type": "code",
   "execution_count": null,
   "id": "85aa61d4",
   "metadata": {},
   "outputs": [],
   "source": [
    "import os\n",
    "import tweepy as tw\n",
    "import pandas as pd\n",
    "import csv \n",
    "\n",
    "access_token = '2240601558-dBayI91htBpw4LlvhBRjHKAgSxFdBl8pehbyL12'\n",
    "access_token_secret = '8IXpi8QCoT2np9nL7SRsKkNNrOfUTs2hvcpctVIlFeySa'\n",
    "consumer_key = 'DsuJYFo3RIH4SLjDg393F4C38'\n",
    "consumer_secret = 'BKXmljQtxSfRjBRcOo5ALYR17StexagzN8htKrLslQl42DEKtR'\n",
    "\n",
    "auth = tw.OAuthHandler(consumer_key, consumer_secret)\n",
    "auth.set_access_token(access_token, access_token_secret)\n",
    "api = tw.API(auth, wait_on_rate_limit=True)\n",
    "  \n",
    "search_words = \"#deepfake\", \"deepfake\", \"AI misinformation\"\n",
    "date_since = \"2017-01-01\"\n",
    "\n",
    "tweets_text = []\n",
    "\n",
    "tweets = tw.Cursor(api.search,\n",
    "              q=search_words ,\n",
    "              lang=\"en\",\n",
    "              since=date_since).items(5000)\n",
    "\n",
    "for tweet in tweets:\n",
    "    tweets_text.append([tweet.user.screen_name, tweet.created_at, tweet.text, tweet.in_reply_to_screen_name])\n",
    "    \n",
    " \n",
    "df_Tweet = pd.DataFrame(tweets_text)\n",
    "df_Tweet.to_csv('DF.csv', header=[tweet.user.screen_name, tweet.created_at, tweet.text, tweet.in_reply_to_screen_name], index=False,)\n",
    "df_Tweet.head()\n",
    "    \n",
    "  "
   ]
  },
  {
   "cell_type": "code",
   "execution_count": null,
   "id": "22e10995",
   "metadata": {},
   "outputs": [],
   "source": []
  }
 ],
 "metadata": {
  "kernelspec": {
   "display_name": "Python 3",
   "language": "python",
   "name": "python3"
  },
  "language_info": {
   "codemirror_mode": {
    "name": "ipython",
    "version": 3
   },
   "file_extension": ".py",
   "mimetype": "text/x-python",
   "name": "python",
   "nbconvert_exporter": "python",
   "pygments_lexer": "ipython3",
   "version": "3.8.8"
  }
 },
 "nbformat": 4,
 "nbformat_minor": 5
}
